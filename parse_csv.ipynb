{
 "cells": [
  {
   "cell_type": "code",
   "execution_count": 203,
   "metadata": {},
   "outputs": [],
   "source": [
    "import csv\n",
    "import pandas\n",
    "import re"
   ]
  },
  {
   "cell_type": "code",
   "execution_count": 204,
   "metadata": {},
   "outputs": [
    {
     "data": {
      "text/html": [
       "<div>\n",
       "<style scoped>\n",
       "    .dataframe tbody tr th:only-of-type {\n",
       "        vertical-align: middle;\n",
       "    }\n",
       "\n",
       "    .dataframe tbody tr th {\n",
       "        vertical-align: top;\n",
       "    }\n",
       "\n",
       "    .dataframe thead th {\n",
       "        text-align: right;\n",
       "    }\n",
       "</style>\n",
       "<table border=\"1\" class=\"dataframe\">\n",
       "  <thead>\n",
       "    <tr style=\"text-align: right;\">\n",
       "      <th></th>\n",
       "      <th>Tweet</th>\n",
       "    </tr>\n",
       "  </thead>\n",
       "  <tbody>\n",
       "    <tr>\n",
       "      <td>0</td>\n",
       "      <td>@switchfoot http://twitpic.com/2y1zl - Awww, t...</td>\n",
       "    </tr>\n",
       "    <tr>\n",
       "      <td>1</td>\n",
       "      <td>is upset that he can't update his Facebook by ...</td>\n",
       "    </tr>\n",
       "    <tr>\n",
       "      <td>2</td>\n",
       "      <td>@Kenichan I dived many times for the ball. Man...</td>\n",
       "    </tr>\n",
       "    <tr>\n",
       "      <td>3</td>\n",
       "      <td>my whole body feels itchy and like its on fire</td>\n",
       "    </tr>\n",
       "    <tr>\n",
       "      <td>4</td>\n",
       "      <td>@nationwideclass no, it's not behaving at all....</td>\n",
       "    </tr>\n",
       "  </tbody>\n",
       "</table>\n",
       "</div>"
      ],
      "text/plain": [
       "                                               Tweet\n",
       "0  @switchfoot http://twitpic.com/2y1zl - Awww, t...\n",
       "1  is upset that he can't update his Facebook by ...\n",
       "2  @Kenichan I dived many times for the ball. Man...\n",
       "3    my whole body feels itchy and like its on fire \n",
       "4  @nationwideclass no, it's not behaving at all...."
      ]
     },
     "execution_count": 204,
     "metadata": {},
     "output_type": "execute_result"
    }
   ],
   "source": [
    "df = pandas.read_csv(\"training.1600000.processed.noemoticon.csv\", engine = \"python\",usecols=[5],header=None,names=[\"Tweet\"])\n",
    "df.head()"
   ]
  },
  {
   "cell_type": "code",
   "execution_count": 205,
   "metadata": {},
   "outputs": [],
   "source": [
    "# Remove special symbols and some punuctuation\n",
    "\n",
    "def remove_symbols(text):\n",
    "    res = re.sub(r'https?:\\/\\/[^\\s]*', '', text) #Remove links\n",
    "    res = re.sub(r'@[^\\s]*','', res) #Remove @username\n",
    "    res = re.sub(r'\\su\\s',' you ',res) #Replace u with you \n",
    "    res = re.sub(r'(should\\'ve|shoulda)','should have',res) #Replace abbrevs\n",
    "    res = re.sub(r'\\sur\\s',' your ',res) #Replace ur with your\n",
    "    res = re.sub(r'&quot','',res) #Replace &quot with \". I'm not too sure what this is supposed to be\n",
    "    res = re.sub(r'\\s?#[^\\s]*',' ',res) #Replace hashtags with spaces\n",
    "    res = re.sub(r'\\s{2,}',' ',res) #Remove duplicate spaces\n",
    "    res = re.sub(r'&amp','and',res) #Remove &amp\n",
    "    res = re.sub(r'(im|I\\'m|i\\'m)','I am',res) #Replace to I am\n",
    "    \n",
    "    #print(res)\n",
    "    #print(text)\n",
    "    return res\n",
    "\n",
    "#remove_symbols(\" &quot;So Dan, you want #php #developer JIRA for the dev teams&quot;, &quot;yes&quot;, &quot;should I provision a new box for it&quot;, &quot;yes&quot;, &quot;okay, it's ordered&quot; - easy see? \")\n",
    "#remove_symbols(\" square. TO thanks  btw:  u should put witelrsstoronto.ca as the SSID  http://twitpic.com/7jnmz\")\n",
    "#remove_symbols(\"@switchfoot http://twitpic.com/2y1zl - Awww, that's a bummer.  You shoulda got David Carr of Third Day to do it. ;D\")"
   ]
  },
  {
   "cell_type": "code",
   "execution_count": 206,
   "metadata": {},
   "outputs": [
    {
     "name": "stdout",
     "output_type": "stream",
     "text": [
      "                                                       0\n",
      "0       - Awww, that's a bummer. You should have got ...\n",
      "1       I should have paid more attention when we cov...\n",
      "2       hmm , do you really enjoy being with hI am ? ...\n",
      "3       haha its so cooooold in the d! and no but you...\n",
      "4       I think maybe you should get a couple more ho...\n",
      "...                                                  ...\n",
      "23634  Hey you - James the electrician is coming over...\n",
      "23635                    yooou should lemme borrow them \n",
      "23636                 your lips my ass they should meet \n",
      "23637  loves visitors so if you are goin to the Aeros...\n",
      "23638  Nice out, but If I am going to leave here at 6...\n",
      "\n",
      "[23639 rows x 1 columns]\n"
     ]
    }
   ],
   "source": [
    "#Get Should statements\n",
    "parsed = []\n",
    "for text in df[\"Tweet\"][:]:\n",
    "    match = re.search(\"should\",text)\n",
    "    if match: \n",
    "        res = remove_symbols(match.string)\n",
    "        parsed.append(res)\n",
    "should_df = pd.DataFrame(parsed)\n",
    "print(should_df) #23,639 should statements"
   ]
  },
  {
   "cell_type": "code",
   "execution_count": 207,
   "metadata": {},
   "outputs": [],
   "source": [
    "should_df.to_csv(\"CDDetection/datasets/twitter_data.csv\",index=False)"
   ]
  },
  {
   "cell_type": "code",
   "execution_count": null,
   "metadata": {},
   "outputs": [],
   "source": []
  },
  {
   "cell_type": "code",
   "execution_count": null,
   "metadata": {},
   "outputs": [],
   "source": []
  }
 ],
 "metadata": {
  "kernelspec": {
   "display_name": "Python 3",
   "language": "python",
   "name": "python3"
  },
  "language_info": {
   "codemirror_mode": {
    "name": "ipython",
    "version": 3
   },
   "file_extension": ".py",
   "mimetype": "text/x-python",
   "name": "python",
   "nbconvert_exporter": "python",
   "pygments_lexer": "ipython3",
   "version": "3.7.4"
  }
 },
 "nbformat": 4,
 "nbformat_minor": 2
}
